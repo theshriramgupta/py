{
  "nbformat": 4,
  "nbformat_minor": 0,
  "metadata": {
    "colab": {
      "provenance": [],
      "authorship_tag": "ABX9TyPybl8Q1p4p+HPowjetA5EA",
      "include_colab_link": true
    },
    "kernelspec": {
      "name": "python3",
      "display_name": "Python 3"
    },
    "language_info": {
      "name": "python"
    }
  },
  "cells": [
    {
      "cell_type": "markdown",
      "metadata": {
        "id": "view-in-github",
        "colab_type": "text"
      },
      "source": [
        "<a href=\"https://colab.research.google.com/github/theshriramgupta/py/blob/master/ml_wellness_project_shriram_gupta.ipynb\" target=\"_parent\"><img src=\"https://colab.research.google.com/assets/colab-badge.svg\" alt=\"Open In Colab\"/></a>"
      ]
    },
    {
      "cell_type": "markdown",
      "source": [
        "# Assignment : Personalized Wellness AI"
      ],
      "metadata": {
        "id": "PGajKwd4I4-W"
      }
    },
    {
      "cell_type": "markdown",
      "source": [
        "## Phase 1 : Technical Proof of Concept"
      ],
      "metadata": {
        "id": "89yxvCMACc-U"
      }
    },
    {
      "cell_type": "markdown",
      "source": [
        "### Synthetic Data Design & Insights           \n",
        "Describe your synthetic data generation strategy.      \n",
        "• Features: What specific features (e.g., daily_steps,\n",
        "sleep_duration_hours, mood_score, dietary_category_intake,\n",
        "stress_level) did you include, and why are they crucial for wellness\n",
        "recommendations?          \n",
        "• Realism & Assumptions: How did you create realistic relationships and variability?       \n",
        "What key assumptions did you make about user behavior or wellness factors?      \n",
        "• Visual Insights: Include 1-2 key visualizations of your synthetic data (e.g., scatter plot\n",
        "of activity vs. sleep, histogram of mood scores). Explain the patterns or \"story\" these\n",
        "visuals reveal."
      ],
      "metadata": {
        "id": "lZyqJspQIx0T"
      }
    },
    {
      "cell_type": "code",
      "source": [
        "# Synthetic Data generation strategy\n",
        "\n",
        "To build a concept behind developing Personalized Wellness AI system, We need to generate synthetic data that closely mimics real-world health and lifestyle patterns. The goal is to simulate data that a wellness app might collect from users through devices, wearables, or manual inputs.\n",
        "Features chosen are :\n",
        "> daily_steps : Represents the number of steps taken daily by a user. Physical activity is a key component of personal wellness and strongly correlates with mood, energy levels and sleep quality.\n",
        "> sleep_durations_hours : Measures how many hours of sleep the user gets per day. Sleep is fundamental need to emotional stability, cognitive functions and overall well-being.\n",
        "> mood_score : Mood Score serves as our target variable and reflects how a person feels. Predicting and improving mood is a central objective in personalized wellness.\n",
        "> diet_category : Nutrition is a foundational pillar of health and can affect both mental and physical performance."
      ],
      "metadata": {
        "id": "TulMAfbPKvjb"
      },
      "execution_count": null,
      "outputs": []
    },
    {
      "cell_type": "code",
      "source": [
        "# Realism & Assumptions in Data :\n",
        "To ensure realistic relationship and variability we need the synthetic data which is plausible and meaningful.\n",
        "> Users who walk more and sleep better tend to report higher mood scores.\n",
        "> Higher stress levels are  associated with lower mood scores.\n",
        "> A balanced or high protein diet slightly improves mood compared to a carb-heavy one.\n",
        "> To data varies normally (e.g., most people sleep around 7 hours or take 6000 steps a day), with  some natural variation (standard deviation) added for realism."
      ],
      "metadata": {
        "id": "3gny3V0ARO-q"
      },
      "execution_count": null,
      "outputs": []
    },
    {
      "cell_type": "code",
      "source": [
        "# Visual Insights\n",
        "To understand the trends and validate our assumptions, I created simple visualizations:\n",
        "\n",
        "> Scatter Plot: Daily Steps vs. Sleep Duration\n",
        "- Reveals a positive pattern where users with more sleep and more steps often report better mood.\n",
        "- Highlights the interplay between physical activity, rest, and emotional state.\n",
        "\n",
        "> Histogram: Mood Score Distribution\n",
        "- Shows that most mood scores fall between 5 and 8, aligning with typical human emotional distribution.\n",
        "- This supports the realism of the synthetic data, as extreme moods (very high or low) are rare."
      ],
      "metadata": {
        "id": "e-xB-uv04IMV"
      },
      "execution_count": null,
      "outputs": []
    },
    {
      "cell_type": "markdown",
      "source": [
        "### Model Selection & Justification\n",
        "Choose one core ML problem within your Wellness AI (e.g., predicting mood, recommending\n",
        "activities, identifying wellness trends).    \n",
        "• ML Approach: Which machine learning algorithm(s) did you choose (e.g., Regression,\n",
        "Classification, Clustering, Recommendation System, Time-Series Forecasting)?    \n",
        "• Justification: Explain why you selected this model. Discuss its strengths for wellness\n",
        "data and the trade-offs considered (e.g., interpretability, non-linear relationships)."
      ],
      "metadata": {
        "id": "xsXIlGl0DBd4"
      }
    },
    {
      "cell_type": "code",
      "source": [
        "For the core machine learning problem, I selected:\n",
        "> Predicting Mood Score based on lifestyle factors such as physical activity, sleep, stress, and diet.\n",
        "This is a regression problem, as the mood score is a continuous numeric value (typically on a scale of 1 to 10). By predicting this score, the system can offer personalized suggestions to improve a user’s emotional well-being.\n",
        "\n",
        "- To solve this regression problem, I chose the Random Forest Regressor as the primary machine learning model.\n",
        "\n",
        "Reasons to select Random Forest are :\n",
        "- It’s an ensemble model that builds multiple decision trees and averages their predictions, reducing overfitting and improving generalization.\n",
        "- It captures non-linear relationships between inputs (e.g., how stress and sleep might interact) that simpler models might miss.\n",
        "- It’s robust to noise and can handle mixed data types — both numerical and categorical features (like diet_category after encoding).\n",
        "- It requires minimal preprocessing, which makes it ideal for a synthetic, fast-prototype system."
      ],
      "metadata": {
        "id": "1eGdkT6FDvNX"
      },
      "execution_count": null,
      "outputs": []
    },
    {
      "cell_type": "markdown",
      "source": [
        "### Evaluation Strategy\n",
        "How would you evaluate your chosen model on your synthetic data?       \n",
        "• Metrics: What specific evaluation metrics (e.g., RMSE, Accuracy/F1, Silhouette Score)\n",
        "would you use, and why are they appropriate?      \n",
        "• Validation: How would you validate your model's performance (e.g., train-test split,\n",
        "cross-validation)?     \n",
        "• Future Refinements: With more time, what specific steps would you take to refine your\n",
        "model's performance and robustness?"
      ],
      "metadata": {
        "id": "c-VYMNxQFPFo"
      }
    },
    {
      "cell_type": "code",
      "source": [
        "# Evaluation Metrics Used\n",
        "Since the task is to predict a numeric value (mood score), this is a regression problem, and the following metrics are most appropriate:\n",
        "\n",
        "> RMSE (Root Mean Squared Error)\n",
        "Measures the average difference between predicted and actual mood scores.\n",
        "Penalizes larger errors more than smaller ones (due to squaring).\n",
        "Easy to interpret since it is in the same unit as the target (mood score scale: 1–10).\n",
        "\n",
        "2. MAE (Mean Absolute Error)\n",
        "Measures average magnitude of errors.\n",
        "Unlike RMSE, treats all errors equally.\n",
        "Can provide a more realistic view if data has outliers.\n",
        "\n",
        "# Why RMSE is preferred:\n",
        "In this case, we want to be more sensitive to larger mistakes (e.g., predicting 9 when the true mood is 2), so RMSE is prioritized.\n",
        "\n",
        "# Validation Strategy\n",
        "To ensure the model is not just memorizing the data (overfitting), I would apply the following validation methods:\n",
        "\n",
        "> Train-Test Split\n",
        "Split the synthetic dataset (e.g., 80% training, 20% testing)\n",
        "Train on one part, evaluate on the other\n",
        "Quick and effective for proof-of-concept stage\n",
        "\n",
        "> Cross-Validation (Optional for later stage)\n",
        "For more robust validation, use K-Fold Cross-Validation\n",
        "Especially useful when moving from proof-of-concept to real data\n",
        "\n",
        "# Future Refinements\n",
        "If I had more time or real-world data, I would improve the model by:\n",
        "\n",
        "> Hyperparameter Tuning\n",
        "- Use GridSearchCV or RandomizedSearchCV to fine-tune the Random Forest parameters (like depth, number of trees)\n",
        "\n",
        "> Model Comparison\n",
        "- Benchmark Random Forest against models like XGBoost or Neural Networks\n",
        "\n",
        "> Outlier Detection\n",
        "- Remove unrealistic values from synthetic data to improve model stability\n",
        "\n",
        "> Bias & Fairness Checks\n",
        "- Ensure no diet category or stress level is unfairly skewing predictions"
      ],
      "metadata": {
        "id": "QkjTE5EOFa7X"
      },
      "execution_count": null,
      "outputs": []
    },
    {
      "cell_type": "markdown",
      "source": [
        "## Phase 2 : Impact and Reflection"
      ],
      "metadata": {
        "id": "tth1MiGLHTZr"
      }
    },
    {
      "cell_type": "markdown",
      "source": [
        "### Real-World Impact & Considerations\n",
        "Based on your design, what actionable insights or potential value could \"Personalized\n",
        "Wellness AI\" provide in a real-world scenario? What are the primary risks, ethical\n",
        "considerations (e.g., data privacy, recommendation bias), or significant limitations if\n",
        "deployed?"
      ],
      "metadata": {
        "id": "bpa-cGraHa9i"
      }
    },
    {
      "cell_type": "code",
      "source": [
        "# Potential Value of Personalized Wellness AI\n",
        "If deployed in the real world, a Personalized Wellness AI system can have meaningful and transformative impacts on individuals and public health:\n",
        "> Actionable Insights\n",
        "Users could receive personalized recommendations such as:\n",
        "- Increasing physical activity if mood is consistently low\n",
        "- Sleeping earlier or reducing screen time to improve sleep quality\n",
        "- Managing stress through mindfulness or breaks\n",
        "Over time, the system could detect patterns in user behavior and mood and offer early warnings (e.g., burnout, sleep disorders)\n",
        "\n",
        "> Risks, Ethical Concerns & Limitations\n",
        "While the benefits are exciting, there are also serious challenges to consider:\n",
        "- Data Privacy & Consent\n",
        "Wellness data is highly personal. The system must ensure:\n",
        "User consent before collecting data, Encryption and secure storage, Clear control over who can access or delete data.\n",
        "- Bias in Recommendations\n",
        "If the model is trained on data skewed toward a certain age group, gender, or lifestyle, it might give:\n",
        "Unfair or inaccurate suggestions, One-size-fits-all advice that doesn’t suit diverse users and Personalization must be fair, inclusive, and adaptive.\n",
        "- Over-reliance on AI\n",
        "Users might start depending on the system instead of consulting professionals\n",
        "The AI should clearly state that it's supportive, not diagnostic\n",
        "\n",
        "In the real world:\n",
        "Data is often noisy, missing, or biased. Human behavior is more unpredictable."
      ],
      "metadata": {
        "id": "JiEfDKTEIQK-"
      },
      "execution_count": null,
      "outputs": []
    },
    {
      "cell_type": "markdown",
      "source": [
        "### Challenges & Growth\n",
        "Describe a specific moment during this assignment where you faced a challenge (e.g., data\n",
        "generation, model choice). How did you overcome it? How did this project deepen your\n",
        "understanding of ML or your own interests?"
      ],
      "metadata": {
        "id": "GIv1cmwXKVHY"
      }
    },
    {
      "cell_type": "code",
      "source": [
        "> Challenge Faced\n",
        "One of the most significant challenges I encountered during this assignment was:\n",
        "Designing realistic synthetic data that reflects complex wellness behavior.\n",
        "Although generating data with random values is easy, ensuring that the data:\n",
        "Follows realistic health patterns (e.g., higher sleep improves mood),Maintains internal consistency, and Reflects real-world variability (not just noise) was much more difficult.\n",
        "I had to carefully decide which features would influence mood, how strongly they should relate, and what assumptions were both realistic and generalizable. Finding the right balance between simplicity and realism took a lot of critical thinking.\n",
        "\n",
        "> How I Overcame It\n",
        "To tackle this:\n",
        "I researched common wellness factors, like how physical activity, stress, and diet influence mood.\n",
        "I designed controlled relationships using math (e.g., giving positive weight to sleep, negative weight to stress).\n",
        "I used visualizations to validate if the synthetic data made sense — like scatter plots to observe trends.\n",
        "This iterative process helped me build more credible and meaningful data, even in the absence of real-world input.\n",
        "\n",
        "> How This Project Helped Me Grow\n",
        "This project significantly deepened my understanding in several ways:\n",
        "- Machine Learning as a System\n",
        "I now see ML not just as algorithms, but as a full pipeline — from data design to modeling, evaluation, and ethics.\n",
        "Every part matters. Even the best model will fail if the input data is flawed or unrepresentative.\n",
        "- Personal Insight\n",
        "This project aligned with my interest in both health and technology.\n",
        "It inspired me to explore more AI for good projects — using technology to solve human problems in a thoughtful way.\n",
        "- This assignment challenged me technically and conceptually, and helped me grow as both a machine learning practitioner and a responsible technologist."
      ],
      "metadata": {
        "id": "tpeJj7g_KagF"
      },
      "execution_count": null,
      "outputs": []
    }
  ]
}